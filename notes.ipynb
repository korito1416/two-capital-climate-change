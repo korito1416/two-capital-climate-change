{
 "cells": [
  {
   "cell_type": "markdown",
   "metadata": {},
   "source": [
    "## Figure 4"
   ]
  },
  {
   "cell_type": "markdown",
   "metadata": {},
   "source": [
    "1) Baseline distribution is histogram of data\n",
    "2) Less aversion part needs to fine one \\xi_a such that it has the same mean distribution of shift\n",
    "exmaple code:"
   ]
  },
  {
   "cell_type": "code",
   "execution_count": null,
   "metadata": {},
   "outputs": [],
   "source": [
    "## Search \\xi when h_y = 0\n",
    "xi_a=(0.0027 0.0028 0.0029 0.0030 0.0031 0.0032 0.0033)\n",
    "xi_k=(0.150 0.150 0.150 0.150 0.150 0.150 0.150)\n",
    "xi_c=(100000. 100000. 100000. 100000. 100000. 100000. 100000.)\n",
    "xi_j=(0.150 0.150 0.150 0.150 0.150 0.150 0.150)\n",
    "xi_d=(0.150 0.150 0.150 0.150 0.150 0.150 0.150)\n",
    "xi_g=(0.150 0.150 0.150 0.150 0.150 0.150 0.150)\n",
    "\n",
    "## and compare with shift\n",
    "xi_a=(100000.)\n",
    "xi_k=(0.150)\n",
    "xi_c=(0.150)\n",
    "xi_j=(0.150)\n",
    "xi_d=(0.150)\n",
    "xi_g=(0.150)\n",
    "\n",
    "## then match \\theta+\\sigma_y * h_y in both cases\n",
    "## results in graph_direct_ZeroShockTrajectories_plot.py.out"
   ]
  },
  {
   "cell_type": "markdown",
   "metadata": {},
   "source": [
    "# Table1"
   ]
  },
  {
   "cell_type": "markdown",
   "metadata": {},
   "source": [
    "1) report values of h_k, h_y, h_r\n",
    "2) all channels\n",
    "3) see graph_direct_ZeroShockTrajectories_plot.py.out"
   ]
  },
  {
   "cell_type": "markdown",
   "metadata": {},
   "source": []
  },
  {
   "cell_type": "markdown",
   "metadata": {},
   "source": [
    "## Figure 5\n",
    "1) baseline J^l is uniform distribution\n",
    "2) distorted distribution J^l*g&l\n",
    "3) see Gamma3_0,Aversion IntensityLess Aversion_rho=1.0_delta=0.01_phi0=0.5.png"
   ]
  },
  {
   "cell_type": "markdown",
   "metadata": {},
   "source": []
  },
  {
   "cell_type": "markdown",
   "metadata": {},
   "source": [
    "## Figure 6,7"
   ]
  },
  {
   "cell_type": "markdown",
   "metadata": {},
   "source": [
    "1) all channel on\n",
    "2) run post, pre, FK-prepare, FK-simulate, FK-plot-composite\n",
    "3) see AversionDiffCompositeTechnology0.083_Discount_nodeltadt_Processs_dt.pdf and AversionDiffCompositeTechnology0.083_Discount_nodeltadt_damage_Processs_dt.pdf"
   ]
  },
  {
   "cell_type": "markdown",
   "metadata": {},
   "source": [
    "## Table 2"
   ]
  },
  {
   "cell_type": "markdown",
   "metadata": {},
   "source": [
    "1) see Graph_Simulate_plot/graph_FeymannKacs_plot_Composite.py_55_Technology_0.075.out"
   ]
  },
  {
   "cell_type": "markdown",
   "metadata": {},
   "source": [
    "## Table 3"
   ]
  },
  {
   "cell_type": "markdown",
   "metadata": {},
   "source": [
    "1. Post, pre, then datevaluereport\n",
    "2. in datevaluereport, use parameters:\n",
    "\n"
   ]
  },
  {
   "cell_type": "code",
   "execution_count": null,
   "metadata": {},
   "outputs": [],
   "source": [
    "xi_a=(100000. 100000. 100000.)\n",
    "xi_k=(0.150 0.075 100000.)\n",
    "xi_c=(0.150 0.075 100000.)\n",
    "xi_j=(0.150 0.075 100000.)\n",
    "xi_d=(0.150 0.075 100000.)\n",
    "xi_g=(0.150 0.075 100000.)"
   ]
  },
  {
   "cell_type": "markdown",
   "metadata": {},
   "source": [
    "3. results in graph-table/graph_direct_DateValueReport_Table.py.out"
   ]
  },
  {
   "cell_type": "markdown",
   "metadata": {},
   "source": []
  },
  {
   "cell_type": "markdown",
   "metadata": {},
   "source": [
    "## Figure 8"
   ]
  },
  {
   "cell_type": "markdown",
   "metadata": {},
   "source": [
    "1. post, pre, sto_plot, sto_simulation\n",
    "2. all chanel on"
   ]
  },
  {
   "cell_type": "markdown",
   "metadata": {},
   "source": [
    "Table 9,10,11 yet to add"
   ]
  },
  {
   "cell_type": "markdown",
   "metadata": {},
   "source": []
  }
 ],
 "metadata": {
  "kernelspec": {
   "display_name": "Python 3",
   "language": "python",
   "name": "python3"
  },
  "language_info": {
   "codemirror_mode": {
    "name": "ipython",
    "version": 3
   },
   "file_extension": ".py",
   "mimetype": "text/x-python",
   "name": "python",
   "nbconvert_exporter": "python",
   "pygments_lexer": "ipython3",
   "version": "3.6.8"
  }
 },
 "nbformat": 4,
 "nbformat_minor": 2
}
